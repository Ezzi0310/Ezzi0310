{
 "cells": [
  {
   "cell_type": "code",
   "execution_count": 1,
   "id": "a3a6e5e9",
   "metadata": {},
   "outputs": [],
   "source": [
    "def fair_tomber(j):\n",
    "    for i in range(n):\n",
    "        peut_tomber(i,j)"
   ]
  },
  {
   "cell_type": "code",
   "execution_count": null,
   "id": "d6e72874",
   "metadata": {},
   "outputs": [],
   "source": [
    "def fair_tomber_des_bloc(k):\n",
    "    "
   ]
  }
 ],
 "metadata": {
  "kernelspec": {
   "display_name": "Python 3",
   "language": "python",
   "name": "python3"
  },
  "language_info": {
   "codemirror_mode": {
    "name": "ipython",
    "version": 3
   },
   "file_extension": ".py",
   "mimetype": "text/x-python",
   "name": "python",
   "nbconvert_exporter": "python",
   "pygments_lexer": "ipython3",
   "version": "3.8.8"
  }
 },
 "nbformat": 4,
 "nbformat_minor": 5
}
